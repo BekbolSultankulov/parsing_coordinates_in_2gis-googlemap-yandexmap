{
 "cells": [
  {
   "cell_type": "markdown",
   "metadata": {},
   "source": [
    "# Getting coordinates from 2gis,yandex,google"
   ]
  },
  {
   "cell_type": "code",
   "execution_count": null,
   "metadata": {},
   "outputs": [],
   "source": [
    "from selenium import webdriver\n",
    "from selenium.webdriver.common.keys import Keys\n",
    "import time\n",
    "from selenium.common.exceptions import ElementClickInterceptedException\n",
    "from selenium.common.exceptions import NoSuchElementException\n",
    "driver = webdriver.Chrome(executable_path='C:\\\\Users\\\\svnduw\\\\.wdm\\\\drivers\\\\chromedriver\\\\win32\\\\93.0.4577.15\\\\chromedriver.exe')\n",
    "#urls=['https://yandex.kz/maps/','https://www.google.com/maps/','https://2gis.kz/']\n",
    "urls=['https://yandex.kz/maps/']\n",
    "google={}\n",
    "yandex={}\n",
    "gis={}\n",
    "for url in urls:\n",
    "    driver.get(url)\n",
    "     \n",
    "    if url=='https://www.google.com/maps/':\n",
    "        for i in range(len(address_list)):\n",
    "            searchBox=driver.find_element_by_xpath('//*[@id=\"searchboxinput\"]')    \n",
    "            searchBox.send_keys(str(address_list[i]))\n",
    "            searchBox.send_keys(Keys.ENTER)\n",
    "            time.sleep(3)\n",
    "            g=driver.current_url\n",
    "            g_lon=g.split('/@')[1].split('z/')[0].split(',')[1]\n",
    "            g_lat=g.split('/@')[1].split('z/')[0].split(',')[0]    \n",
    "            google[str(address_list[i])]=str(g_lon)+' , '+str(g_lat)\n",
    "            time.sleep(1)\n",
    "            searchBox.clear()\n",
    "    elif url=='https://yandex.kz/maps/':                    \n",
    "        for i in range(len(address_list)):\n",
    "            searchBox=driver.find_element_by_class_name('input__control')    \n",
    "            searchBox.send_keys(str(address_list[i]))   \n",
    "            searchBox.send_keys(Keys.ENTER) \n",
    "            time.sleep(3) \n",
    "            y=driver.current_url\n",
    "            #time.sleep(2) \n",
    "            if len(y)<100:\n",
    "                y_lon=y.split('?ll=')[1].split('%2C')[0]\n",
    "                y_lat=y.split('?ll=')[1].split('%2C')[1].split('&')[0]\n",
    "                yandex[str(address_list[i])]=str(y_lon)+' , '+str(y_lat)\n",
    "\n",
    "            else:\n",
    "                y_lon=y.split('ll=')[1].split('%2C')[0]\n",
    "                y_lat=y.split('?ll=')[1].split('%2C')[1].split('&')[0]\n",
    "                \n",
    "                yandex[str(address_list[i])]=str(y_lon)+' , '+str(y_lat)\n",
    "            for j in range(len(address_list[i])+5):\n",
    "                searchBox.send_keys(Keys.BACK_SPACE)\n",
    "                #driver.find_element_by_xpath('/html/body/div[1]/div[2]/div[3]/div/div/div/div/form/div[5]/button').click()\n",
    "\n",
    "            \n",
    "            \n",
    "    else:\n",
    "        for i in range(len(address_list)):\n",
    "            try:\n",
    "                searchBox=driver.find_element_by_xpath('//*[@id=\"root\"]/div/div/div[1]/div[1]/div[2]/div/div/div[1]/div/div/div/div/div[2]/form/div/input')    \n",
    "                searchBox.send_keys(str(address_list[i]))\n",
    "                searchBox.send_keys(Keys.ENTER)\n",
    "                #time.sleep(3)\n",
    "                #driver.find_element_by_xpath('//*[@id=\"root\"]/div/div/div[1]/div[1]/div[2]/div/div/div[2]/div/div/div/div[2]/div[2]/div[1]/div/div/div[1]/div[3]/div/div[1]').click()\n",
    "                time.sleep(5)\n",
    "                gis2=driver.current_url\n",
    "                gis_lon=gis2.split('m=')[1].split('%2C')[0]\n",
    "                gis_lat=gis2.split('m=')[1].split('%2C')[1].split('%2F')[0] \n",
    "                gis[str(address_list[i])]=str(gis_lon)+' , '+str(gis_lat)                \n",
    "                driver.find_element_by_xpath('//*[@id=\"root\"]/div/div/div[1]/div[1]/div[2]/div/div/div[1]/div/div/div/div/div[2]/form/div/div').click()\n",
    "                #time.sleep(3) \n",
    "            except NoSuchElementException:\n",
    "                continue            \n",
    "        \n",
    "driver.close()          \n",
    "          \n",
    "                "
   ]
  },
  {
   "cell_type": "code",
   "execution_count": null,
   "metadata": {},
   "outputs": [],
   "source": [
    "dataframe1=pd.DataFrame(yandex.items(),columns=['Address','Longitude and Latitude'])\n",
    "#dataframe2=pd.DataFrame(google.items(),columns=['Address','Longitude and Latitude'])\n",
    "#dataframe3=pd.DataFrame(gis.items(),columns=['Address','Longitude and Latitude'])\n",
    "dataframe1[['lon(yandex)','lat(yandex)']] = dataframe1['Longitude and Latitude'].str.split(\",\",expand=True)\n",
    "#dataframe2[['lon(google)','lat(google)']] = dataframe2['Longitude and Latitude'].str.split(\",\",expand=True)\n",
    "#dataframe3[['lon(2gis)','lat(2gis)']] = dataframe3['Longitude and Latitude'].str.split(\",\",expand=True)\n",
    "dataframe1.drop('Longitude and Latitude',axis=1,inplace=True)\n",
    "#dataframe2.drop('Longitude and Latitude',axis=1,inplace=True)\n",
    "#dataframe3.drop('Longitude and Latitude',axis=1,inplace=True)"
   ]
  },
  {
   "cell_type": "markdown",
   "metadata": {},
   "source": [
    "# Getting boundring coordinates of any country/region from json(yandex.map)"
   ]
  },
  {
   "cell_type": "code",
   "execution_count": null,
   "metadata": {},
   "outputs": [],
   "source": [
    "import os\n",
    "import json\n",
    "import pandas as pd\n",
    "base_dir = 'C:\\\\Users\\\\svnduw\\\\Desktop\\\\Bekbol\\\\new region\\\\03.09.2021_'\n",
    "address_data={}\n",
    "\n",
    "for file in os.listdir(base_dir):\n",
    "    with open(base_dir+'//'+file,encoding=\"utf8\") as f:\n",
    "        data=json.load(f)\n",
    "        coordinates=[]\n",
    "        for i in range(len(data['data']['items'][0]['displayGeometry']['geometries'])):\n",
    "            for j in range(len(data['data']['items'][0]['displayGeometry']['geometries'][i]['coordinates'])):\n",
    "                for k in range(len(data['data']['items'][0]['displayGeometry']['geometries'][i]['coordinates'][j])):            \n",
    "                    for z in range(len(data['data']['items'][0]['displayGeometry']['geometries'][i]['coordinates'][j][k])):\n",
    "                        coordinates_by_parts=data['data']['items'][0]['displayGeometry']['geometries'][i]['coordinates'][j][k][z]\n",
    "                        coordinates.append(coordinates_by_parts)\n",
    "        address_data[file.split('.')[0]]=str(coordinates)  "
   ]
  },
  {
   "cell_type": "code",
   "execution_count": null,
   "metadata": {},
   "outputs": [],
   "source": [
    "import json\n",
    "import pandas as pd\n",
    "from shapely.geometry import Polygon\n",
    "f=open(\"C:\\\\Users\\\\svnduw\\\\Desktop\\\\Bekbol\\\\Merke.json\", encoding='UTF8')\n",
    "data = json.load(f)\n",
    "coordinates=[]\n",
    "for i in range(len(data['data']['items'][0]['displayGeometry']['geometries'])):\n",
    "    for j in range(len(data['data']['items'][0]['displayGeometry']['geometries'][i]['coordinates'])):\n",
    "        for k in range(len(data['data']['items'][0]['displayGeometry']['geometries'][i]['coordinates'][j])):            \n",
    "            for z in range(len(data['data']['items'][0]['displayGeometry']['geometries'][i]['coordinates'][j][k])):\n",
    "                           coordinates_by_parts=data['data']['items'][0]['displayGeometry']['geometries'][i]['coordinates'][j][k][z]\n",
    "                           coordinates.append(coordinates_by_parts)\n",
    "x=[]\n",
    "y=[]\n",
    "for i in range(len(coordinates)):\n",
    "    if(i%2==0):\n",
    "        x.append(coordinates[i])\n",
    "    else:\n",
    "        y.append(coordinates[i])\n",
    "df = pd.DataFrame(list(zip(x, y)),columns=['lat','lon'])"
   ]
  }
 ],
 "metadata": {
  "kernelspec": {
   "display_name": "Python 3",
   "language": "python",
   "name": "python3"
  },
  "language_info": {
   "codemirror_mode": {
    "name": "ipython",
    "version": 3
   },
   "file_extension": ".py",
   "mimetype": "text/x-python",
   "name": "python",
   "nbconvert_exporter": "python",
   "pygments_lexer": "ipython3",
   "version": "3.8.5"
  }
 },
 "nbformat": 4,
 "nbformat_minor": 4
}
